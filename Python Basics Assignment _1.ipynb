{
 "cells": [
  {
   "cell_type": "code",
   "execution_count": null,
   "id": "ad3f5496",
   "metadata": {},
   "outputs": [],
   "source": [
    "1) * -> expression\n",
    "   'hello' -> value\n",
    "   -87.8 -> value\n",
    "   - -> expression\n",
    "   / -> expression\n",
    "   + -> expression\n",
    "   6 -> value"
   ]
  },
  {
   "cell_type": "code",
   "execution_count": null,
   "id": "56ff30a4",
   "metadata": {},
   "outputs": [],
   "source": [
    "2) String:\n",
    "    A string is a sequence of characters enclosed within the single or double quotes.\n",
    "    Can contain any letters, digits, special characters.\n",
    "   Variable:\n",
    "    Where as, a variable is a name given to a memory location to store values.\n",
    "    Variables cannot be a keyword.\n",
    "    Variables cannot start with '$'sign or any special character.\n",
    "    Can start with '_' underscore."
   ]
  },
  {
   "cell_type": "code",
   "execution_count": null,
   "id": "9acd90cc",
   "metadata": {},
   "outputs": [],
   "source": [
    "3) Integer:\n",
    "    Whole numbers comes under integers datatype.\n",
    "    'int' keyword is used to denote the integer datatype.\n",
    "   Float:\n",
    "    Numbers with decimal values are stored in this format.\n",
    "    'float' keyword is used to denote the float datatype.\n",
    "   String:\n",
    "    String is a sequence of characters enclosed within a single or double quotes.\n",
    "    'String' keyword is used to denote the string datatype."
   ]
  },
  {
   "cell_type": "code",
   "execution_count": null,
   "id": "eabe403f",
   "metadata": {},
   "outputs": [],
   "source": [
    "4) Expressions are made up of operators and operands.\n",
    "    Expressions are evaluated based on the precedence of the operators to produce a value or result."
   ]
  },
  {
   "cell_type": "code",
   "execution_count": null,
   "id": "5e670ad5",
   "metadata": {},
   "outputs": [],
   "source": [
    "5)  The expression in Python produces some value or result after being interpreted by the Python interpreter. \n",
    "    A statement in Python is not evaluated for some results.\n",
    "    Every expression is a statement but every statement need not be an expression."
   ]
  },
  {
   "cell_type": "code",
   "execution_count": null,
   "id": "4c628251",
   "metadata": {},
   "outputs": [],
   "source": [
    "6) bacon = 22\n",
    "   bacon + 1\n",
    "    For the following code after execution the bacon contains the value 22."
   ]
  },
  {
   "cell_type": "code",
   "execution_count": null,
   "id": "f09a8c31",
   "metadata": {},
   "outputs": [],
   "source": [
    "7) 'spam'+'spamspam' = spamspamspam\n",
    "    'spam'*3 = spamspamspam"
   ]
  },
  {
   "cell_type": "code",
   "execution_count": null,
   "id": "a7793ec5",
   "metadata": {},
   "outputs": [],
   "source": [
    "8) eggs is a valid variable name while 100 is invalid because the variable name can start with a letter but not with a digit."
   ]
  },
  {
   "cell_type": "code",
   "execution_count": null,
   "id": "ef31127f",
   "metadata": {},
   "outputs": [],
   "source": [
    "9) int(), float(), str() functions can be used to get the integer, floating-point number, or string version of a value."
   ]
  },
  {
   "cell_type": "code",
   "execution_count": null,
   "id": "127d36f4",
   "metadata": {},
   "outputs": [],
   "source": [
    "10) 'I have eaten'+99+'burritos'\n",
    "    This expression causes an error because the String and int type cannot be concatenated.\n",
    "    We can ony concatenate two strings.\n",
    "    So to make the above expression to work we need to convert the integer type to string type by enclosing the number within\n",
    "    the single or double quotes.\n",
    "    'I have eaten'+'99'+'burritos'"
   ]
  }
 ],
 "metadata": {
  "kernelspec": {
   "display_name": "Python 3 (ipykernel)",
   "language": "python",
   "name": "python3"
  },
  "language_info": {
   "codemirror_mode": {
    "name": "ipython",
    "version": 3
   },
   "file_extension": ".py",
   "mimetype": "text/x-python",
   "name": "python",
   "nbconvert_exporter": "python",
   "pygments_lexer": "ipython3",
   "version": "3.9.13"
  }
 },
 "nbformat": 4,
 "nbformat_minor": 5
}

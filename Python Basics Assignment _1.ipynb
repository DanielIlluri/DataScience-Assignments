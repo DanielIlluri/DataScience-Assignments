{
 "cells": [
  {
   "cell_type": "code",
   "execution_count": 1,
   "id": "9509b54b",
   "metadata": {},
   "outputs": [
    {
     "ename": "SyntaxError",
     "evalue": "unmatched ')' (2009064549.py, line 1)",
     "output_type": "error",
     "traceback": [
      "\u001b[1;36m  File \u001b[1;32m\"C:\\Users\\Danny\\AppData\\Local\\Temp\\ipykernel_27424\\2009064549.py\"\u001b[1;36m, line \u001b[1;32m1\u001b[0m\n\u001b[1;33m    1) * -> expression\u001b[0m\n\u001b[1;37m     ^\u001b[0m\n\u001b[1;31mSyntaxError\u001b[0m\u001b[1;31m:\u001b[0m unmatched ')'\n"
     ]
    }
   ],
   "source": [
    "1) * -> expression\n",
    "   'hello' -> value\n",
    "   -87.8 -> value\n",
    "   - -> expression\n",
    "   / -> expression\n",
    "   + -> expression\n",
    "   6 -> value"
   ]
  },
  {
   "cell_type": "code",
   "execution_count": null,
   "id": "e568426f",
   "metadata": {},
   "outputs": [],
   "source": [
    "2) String:\n",
    "    A string is a sequence of characters enclosed within the single or double quotes.\n",
    "    Can contain any letters, digits, special characters.\n",
    "   Variable:\n",
    "    Where as, a variable is a name given to a memory location to store values.\n",
    "    Variables cannot be a keyword.\n",
    "    Variables cannot start with '$'sign or any special character.\n",
    "    Can start with '_' underscore."
   ]
  },
  {
   "cell_type": "code",
   "execution_count": null,
   "id": "88d2ad84",
   "metadata": {},
   "outputs": [],
   "source": [
    "3) Integer:\n",
    "    Whole numbers comes under integers datatype.\n",
    "    'int' keyword is used to denote the integer datatype.\n",
    "   Float:\n",
    "    Numbers with decimal values are stored in this format.\n",
    "    'float' keyword is used to denote the float datatype.\n",
    "   String:\n",
    "    String is a sequence of characters enclosed within a single or double quotes.\n",
    "    'String' keyword is used to denote the string datatype."
   ]
  },
  {
   "cell_type": "code",
   "execution_count": null,
   "id": "7b33b342",
   "metadata": {},
   "outputs": [],
   "source": [
    "4) Expressions are made up of operators and operands.\n",
    "    Expressions are evaluated based on the precedence of the operators to produce a value or result."
   ]
  },
  {
   "cell_type": "code",
   "execution_count": null,
   "id": "091345d9",
   "metadata": {},
   "outputs": [],
   "source": [
    "5)  The expression in Python produces some value or result after being interpreted by the Python interpreter. \n",
    "    A statement in Python is not evaluated for some results.\n",
    "    Every expression is a statement but every statement need not be an expression."
   ]
  },
  {
   "cell_type": "code",
   "execution_count": 5,
   "id": "897e9c75",
   "metadata": {},
   "outputs": [
    {
     "ename": "SyntaxError",
     "evalue": "invalid syntax (2036272395.py, line 2)",
     "output_type": "error",
     "traceback": [
      "\u001b[1;36m  File \u001b[1;32m\"C:\\Users\\Danny\\AppData\\Local\\Temp\\ipykernel_27424\\2036272395.py\"\u001b[1;36m, line \u001b[1;32m2\u001b[0m\n\u001b[1;33m    bacon++\u001b[0m\n\u001b[1;37m           ^\u001b[0m\n\u001b[1;31mSyntaxError\u001b[0m\u001b[1;31m:\u001b[0m invalid syntax\n"
     ]
    }
   ],
   "source": [
    "6) bacon = 22\n",
    "   bacon + 1\n",
    "    For the following code after execution the bacon contains the value 22."
   ]
  },
  {
   "cell_type": "code",
   "execution_count": 6,
   "id": "7537df27",
   "metadata": {
    "collapsed": true
   },
   "outputs": [
    {
     "data": {
      "text/plain": [
       "'spamspamspam'"
      ]
     },
     "execution_count": 6,
     "metadata": {},
     "output_type": "execute_result"
    }
   ],
   "source": [
    "7) 'spam'+'spamspam' = spamspamspam\n",
    "    'spam'*3 = spamspamspam"
   ]
  },
  {
   "cell_type": "code",
   "execution_count": null,
   "id": "6989ca97",
   "metadata": {},
   "outputs": [],
   "source": [
    "8) eggs is a valid variable name while 100 is invalid because the variable name can start with a letter but not with a digit."
   ]
  },
  {
   "cell_type": "code",
   "execution_count": null,
   "id": "710f2418",
   "metadata": {},
   "outputs": [],
   "source": [
    "9) int(), float(), str() functions can be used to get the integer, floating-point number, or string version of a value."
   ]
  },
  {
   "cell_type": "code",
   "execution_count": 9,
   "id": "1511dfab",
   "metadata": {},
   "outputs": [
    {
     "data": {
      "text/plain": [
       "'I have eaten99burritos'"
      ]
     },
     "execution_count": 9,
     "metadata": {},
     "output_type": "execute_result"
    }
   ],
   "source": [
    "10) 'I have eaten'+99+'burritos'\n",
    "    This expression causes an error because the String and int type cannot be concatenated.\n",
    "    We can ony concatenate two strings.\n",
    "    So to make the above expression to work we need to convert the integer type to string type by enclosing the number within\n",
    "    the single or double quotes.\n",
    "    'I have eaten'+'99'+'burritos'"
   ]
  }
 ],
 "metadata": {
  "kernelspec": {
   "display_name": "Python 3 (ipykernel)",
   "language": "python",
   "name": "python3"
  },
  "language_info": {
   "codemirror_mode": {
    "name": "ipython",
    "version": 3
   },
   "file_extension": ".py",
   "mimetype": "text/x-python",
   "name": "python",
   "nbconvert_exporter": "python",
   "pygments_lexer": "ipython3",
   "version": "3.9.13"
  }
 },
 "nbformat": 4,
 "nbformat_minor": 5
}
